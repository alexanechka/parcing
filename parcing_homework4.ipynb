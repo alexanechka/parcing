{
 "cells": [
  {
   "cell_type": "markdown",
   "id": "61164b16",
   "metadata": {},
   "source": [
    "## Домашнее задание к уроку 4 ##\n",
    "\n",
    "1.\tСохранить данные из предыдущего домашнего задания в файл .json или .csv. \n",
    "2.\tСоздать MongoDB, записать данные туда (любое название базы, любое название коллекции). Выполнить команду для демонстрации содержимого коллекции. Прикрепить скриншот.\n",
    "3.\tСоздать базу данных sqlite, загрузить туда данные из парсера с предыдущего урока. Загрузить файл .db\n"
   ]
  },
  {
   "cell_type": "code",
   "execution_count": 68,
   "id": "eb367e98",
   "metadata": {},
   "outputs": [],
   "source": [
    "import os\n",
    "import json\n",
    "import requests\n",
    "from bs4 import BeautifulSoup as bs"
   ]
  },
  {
   "cell_type": "code",
   "execution_count": 69,
   "id": "d8649508",
   "metadata": {},
   "outputs": [
    {
     "name": "stdout",
     "output_type": "stream",
     "text": [
      "Requirement already satisfied: pymongo in c:\\programdata\\anaconda3\\lib\\site-packages (4.1.1)Note: you may need to restart the kernel to use updated packages.\n",
      "\n"
     ]
    }
   ],
   "source": [
    "pip install pymongo"
   ]
  },
  {
   "cell_type": "code",
   "execution_count": 70,
   "id": "6c2b2ca7",
   "metadata": {},
   "outputs": [],
   "source": [
    "from pymongo import MongoClient"
   ]
  },
  {
   "cell_type": "code",
   "execution_count": 71,
   "id": "8bf67fbc",
   "metadata": {},
   "outputs": [],
   "source": [
    "# 1 Сохранить данные из предыдущего домашнего задания в файл .json или .csv\n",
    "\n",
    "def add_to_result(result, quote_text, author, tags):\n",
    "    quote = {\n",
    "        \"text\": quote_text,\n",
    "        \"author\": author,\n",
    "        \"tags\": tags\n",
    "    }\n",
    "    result.append(quote)  \n",
    "    return result\n"
   ]
  },
  {
   "cell_type": "code",
   "execution_count": 72,
   "id": "ae4d26e4",
   "metadata": {},
   "outputs": [],
   "source": [
    "def parce_quotes(url_to_parce, result):\n",
    "    url_to_parce\n",
    "    r = requests.get(url_to_parce)\n",
    "    \n",
    "    html = bs(r.content, 'html.parser')\n",
    "    all_quotes = html.find_all('div', attrs={\"class\": \"quote\"})\n",
    "\n",
    "    for quote in all_quotes:\n",
    "        quote_text = quote.find('span', attrs={\"itemprop\": \"text\"}).text\n",
    "        author = quote.find(attrs={\"itemprop\": \"author\"}).text\n",
    "        tags = quote.find(attrs={\"itemprop\": \"keywords\"})['content']\n",
    "    \n",
    "        result = add_to_result(result, quote_text, author, tags)\n",
    "        \n",
    "    pager = html.find('ul', attrs={\"class\": \"pager\"})\n",
    "    if pager != None:\n",
    "        next_page = pager.find('li', attrs={\"class\": \"next\"})\n",
    "        if next_page != None:\n",
    "            url_postfix = next_page.find('a')['href']\n",
    "        else:\n",
    "            url_postfix = None            \n",
    "    else:\n",
    "        url_postfix = None    \n",
    "    \n",
    "    return {\n",
    "        'result': result,\n",
    "        'url_psfx': url_postfix\n",
    "    }"
   ]
  },
  {
   "cell_type": "code",
   "execution_count": null,
   "id": "725e5ed0",
   "metadata": {},
   "outputs": [],
   "source": [
    "url = 'https://quotes.toscrape.com/'\n",
    "hw_result = []\n",
    "url_psfx = '/'\n",
    "url_prc = url[:-1] + url_psfx\n",
    "\n",
    "url_prc\n",
    "\n",
    "while url_psfx != None:\n",
    "    url_prc = url[:-1] + url_psfx\n",
    "    \n",
    "    result = parce_quotes(url_prc, hw_result)\n",
    "    url_psfx = result['url_psfx']\n",
    "    #print(url_psfx)\n",
    "    \n",
    "    hw_result = result['result']\n",
    "    \n",
    "hw_result"
   ]
  },
  {
   "cell_type": "code",
   "execution_count": null,
   "id": "a15c8699",
   "metadata": {},
   "outputs": [],
   "source": [
    "json.dump(hw_result, fp = open(\"result_hw3.txt\", \"w+\"))\n",
    "\n",
    "with open('result_hw3.txt') as f:\n",
    "    quotes = json.load(f)\n",
    "    \n",
    "quotes"
   ]
  },
  {
   "cell_type": "code",
   "execution_count": null,
   "id": "5811f282",
   "metadata": {},
   "outputs": [],
   "source": [
    "# 2. Создать MongoDB, записать данные туда (любое название базы, любое название коллекции). \n",
    "# Выполнить команду для демонстрации содержимого коллекции. Прикрепить скриншот.\n",
    "\n",
    "client = MongoClient('mongodb://localhost:27017/')"
   ]
  },
  {
   "cell_type": "code",
   "execution_count": null,
   "id": "25a770b4",
   "metadata": {},
   "outputs": [],
   "source": [
    "print(client.list_database_names())"
   ]
  },
  {
   "cell_type": "code",
   "execution_count": null,
   "id": "c0bfe1c1",
   "metadata": {},
   "outputs": [],
   "source": [
    "db = client.quotes"
   ]
  },
  {
   "cell_type": "code",
   "execution_count": null,
   "id": "cec1f1d0",
   "metadata": {},
   "outputs": [],
   "source": [
    "db.quotes.insert_many(quotes)"
   ]
  },
  {
   "cell_type": "code",
   "execution_count": null,
   "id": "5d0e6b21",
   "metadata": {},
   "outputs": [],
   "source": [
    "print(client.list_database_names())"
   ]
  },
  {
   "cell_type": "code",
   "execution_count": null,
   "id": "f3938713",
   "metadata": {},
   "outputs": [],
   "source": [
    "print(db.list_collection_names())"
   ]
  },
  {
   "cell_type": "code",
   "execution_count": null,
   "id": "5823fe49",
   "metadata": {},
   "outputs": [],
   "source": [
    "quotes_in_base = db.quotes.find()\n",
    "for quote in quotes_in_base:\n",
    "    print('{0} {1}'.format(quote['text'], \n",
    "        quote['author']))"
   ]
  },
  {
   "cell_type": "code",
   "execution_count": null,
   "id": "520b184c",
   "metadata": {},
   "outputs": [],
   "source": [
    "# 3. Создать базу данных sqlite, загрузить туда данные из парсера с предыдущего урока. Загрузить файл .db\n",
    "\n",
    "import sqlite3"
   ]
  },
  {
   "cell_type": "code",
   "execution_count": null,
   "id": "9dec3d34",
   "metadata": {},
   "outputs": [],
   "source": [
    "con = sqlite3.connect('sqlite.db')\n",
    "cursor = con.cursor()"
   ]
  },
  {
   "cell_type": "code",
   "execution_count": null,
   "id": "88725761",
   "metadata": {},
   "outputs": [],
   "source": [
    "query = '''\n",
    "    DROP TABLE IF EXISTS quotes;\n",
    "    '''\n",
    "cursor.execute(query)\n",
    "con.commit()"
   ]
  },
  {
   "cell_type": "code",
   "execution_count": null,
   "id": "ec5b0339",
   "metadata": {},
   "outputs": [],
   "source": [
    "query = '''\n",
    "    CREATE TABLE  quotes(\n",
    "        quote_text CHAR,\n",
    "        author CHAR,\n",
    "        tags CHAR\n",
    "    )\n",
    "'''\n",
    "cursor.execute(query)\n",
    "con.commit()"
   ]
  },
  {
   "cell_type": "code",
   "execution_count": null,
   "id": "5647abab",
   "metadata": {},
   "outputs": [],
   "source": [
    "insert_query = '''\n",
    "    INSERT INTO quotes(\n",
    "        quote_text,\n",
    "        author,\n",
    "        tags\n",
    "    )\n",
    "    VALUES(\n",
    "        ?,\n",
    "        ?,\n",
    "        ?\n",
    "    )\n",
    "'''\n",
    "\n",
    "for quote in quotes:\n",
    "    quote_tuple = (quote['text'], quote['author'], quote['tags'])\n",
    "    cursor.execute(insert_query, quote_tuple)\n",
    "    con.commit()"
   ]
  },
  {
   "cell_type": "code",
   "execution_count": null,
   "id": "0e2a81f4",
   "metadata": {},
   "outputs": [],
   "source": [
    "cursor.execute('SELECT * FROM quotes')\n",
    "find_quotes = cursor.fetchall()\n",
    "for quote in find_quotes:\n",
    "    print(quote)"
   ]
  },
  {
   "cell_type": "code",
   "execution_count": null,
   "id": "10fadae2",
   "metadata": {},
   "outputs": [],
   "source": [
    "bck = sqlite3.connect('quotes.db')\n",
    "with bck:\n",
    "    con.backup(bck, pages=1)\n",
    "bck.close()"
   ]
  },
  {
   "cell_type": "code",
   "execution_count": null,
   "id": "768f7c60",
   "metadata": {},
   "outputs": [],
   "source": [
    "con.close()"
   ]
  },
  {
   "cell_type": "code",
   "execution_count": null,
   "id": "bfe65ce2",
   "metadata": {},
   "outputs": [],
   "source": []
  },
  {
   "cell_type": "code",
   "execution_count": null,
   "id": "da0b6380",
   "metadata": {},
   "outputs": [],
   "source": []
  }
 ],
 "metadata": {
  "kernelspec": {
   "display_name": "Python 3",
   "language": "python",
   "name": "python3"
  },
  "language_info": {
   "codemirror_mode": {
    "name": "ipython",
    "version": 3
   },
   "file_extension": ".py",
   "mimetype": "text/x-python",
   "name": "python",
   "nbconvert_exporter": "python",
   "pygments_lexer": "ipython3",
   "version": "3.8.8"
  }
 },
 "nbformat": 4,
 "nbformat_minor": 5
}
